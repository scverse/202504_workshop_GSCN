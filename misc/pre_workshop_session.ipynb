{
 "cells": [
  {
   "cell_type": "markdown",
   "id": "e07c4843-165f-47e9-87e2-86eafc3e37bd",
   "metadata": {},
   "source": [
    "# Header: E.g. Introduction"
   ]
  },
  {
   "cell_type": "markdown",
   "id": "65ab1053-039e-4ed7-8fd1-ca500bad181a",
   "metadata": {},
   "source": [
    "Here we can write some description for the notebook."
   ]
  },
  {
   "cell_type": "markdown",
   "id": "68934c4d-b486-4fce-b8dd-8bedaef19dc2",
   "metadata": {},
   "source": [
    "# Import packages"
   ]
  },
  {
   "cell_type": "code",
   "execution_count": 1,
   "id": "376885d0-dd7c-49af-8159-79d0376d55b9",
   "metadata": {},
   "outputs": [],
   "source": [
    "import scanpy"
   ]
  },
  {
   "cell_type": "code",
   "execution_count": 2,
   "id": "180aae65-e318-4f36-8acd-ed045b1e7d49",
   "metadata": {},
   "outputs": [],
   "source": [
    "import scanpy as sc"
   ]
  },
  {
   "cell_type": "code",
   "execution_count": 3,
   "id": "dd4cc8f1-d746-4e09-91aa-497c31088e8f",
   "metadata": {},
   "outputs": [],
   "source": [
    "import scanpy as sc\n",
    "import numpy as np\n",
    "import matplotlib.pyplot as plt\n",
    "import pandas as pd\n",
    "import scipy"
   ]
  },
  {
   "cell_type": "markdown",
   "id": "20460394-7238-4c3d-8489-6ab710db85dd",
   "metadata": {},
   "source": [
    "# Common data types in Python"
   ]
  },
  {
   "cell_type": "markdown",
   "id": "4fadc614-1371-4b72-9ad2-3e15a529cb31",
   "metadata": {},
   "source": [
    "## Integer"
   ]
  },
  {
   "cell_type": "code",
   "execution_count": 4,
   "id": "a26d7e9a-2d82-4b69-916b-5cba18a134ed",
   "metadata": {},
   "outputs": [],
   "source": [
    "x = 1"
   ]
  },
  {
   "cell_type": "code",
   "execution_count": 5,
   "id": "76643987-8464-4cbd-871f-e7713aebcba6",
   "metadata": {},
   "outputs": [
    {
     "name": "stdout",
     "output_type": "stream",
     "text": [
      "1\n"
     ]
    }
   ],
   "source": [
    "print(x)"
   ]
  },
  {
   "cell_type": "code",
   "execution_count": 6,
   "id": "3e8b6d6a-54ff-489d-ae52-3a8a8ec2bbbd",
   "metadata": {},
   "outputs": [
    {
     "data": {
      "text/plain": [
       "int"
      ]
     },
     "execution_count": 6,
     "metadata": {},
     "output_type": "execute_result"
    }
   ],
   "source": [
    "type(x)"
   ]
  },
  {
   "cell_type": "markdown",
   "id": "c36d551e-8bdf-4b98-82b3-46ae2dee25ff",
   "metadata": {},
   "source": [
    "## String"
   ]
  },
  {
   "cell_type": "code",
   "execution_count": 7,
   "id": "633661c0-598a-41e9-a55e-0c6fc774d062",
   "metadata": {},
   "outputs": [],
   "source": [
    "y = 'test'"
   ]
  },
  {
   "cell_type": "code",
   "execution_count": 8,
   "id": "e8372382-1d0d-489d-9855-f903978dfbaa",
   "metadata": {},
   "outputs": [
    {
     "name": "stdout",
     "output_type": "stream",
     "text": [
      "test\n"
     ]
    }
   ],
   "source": [
    "print(y)"
   ]
  },
  {
   "cell_type": "code",
   "execution_count": 9,
   "id": "79a3ff3e-e0e8-4939-8776-9e117e53950f",
   "metadata": {},
   "outputs": [
    {
     "data": {
      "text/plain": [
       "str"
      ]
     },
     "execution_count": 9,
     "metadata": {},
     "output_type": "execute_result"
    }
   ],
   "source": [
    "type(y)"
   ]
  },
  {
   "cell_type": "code",
   "execution_count": 10,
   "id": "45b4d9b8-f92c-4ec2-967d-b7f9a992b123",
   "metadata": {},
   "outputs": [],
   "source": [
    "z = \"test1\""
   ]
  },
  {
   "cell_type": "code",
   "execution_count": 11,
   "id": "c42f1e2f-1a52-45f3-ac3d-d3aea5cc8c5e",
   "metadata": {},
   "outputs": [
    {
     "name": "stdout",
     "output_type": "stream",
     "text": [
      "test1\n"
     ]
    }
   ],
   "source": [
    "print(z)"
   ]
  },
  {
   "cell_type": "code",
   "execution_count": 12,
   "id": "6f950f74-1244-4769-8fc1-42ef9e58ec97",
   "metadata": {},
   "outputs": [
    {
     "data": {
      "text/plain": [
       "str"
      ]
     },
     "execution_count": 12,
     "metadata": {},
     "output_type": "execute_result"
    }
   ],
   "source": [
    "type(z)"
   ]
  },
  {
   "cell_type": "markdown",
   "id": "b5b3a1ba-eabd-4c5d-bd51-ae146b06a83b",
   "metadata": {},
   "source": [
    "## List"
   ]
  },
  {
   "cell_type": "code",
   "execution_count": 16,
   "id": "15daec32-3e05-429f-bea5-81eb3dc34cc0",
   "metadata": {},
   "outputs": [],
   "source": [
    "a = [0, 1, 2, 'test']"
   ]
  },
  {
   "cell_type": "code",
   "execution_count": 17,
   "id": "4bc21edb-65c8-4a47-8591-8537ba81f2df",
   "metadata": {},
   "outputs": [
    {
     "name": "stdout",
     "output_type": "stream",
     "text": [
      "[0, 1, 2, 'test']\n"
     ]
    }
   ],
   "source": [
    "print(a)"
   ]
  },
  {
   "cell_type": "code",
   "execution_count": 18,
   "id": "2b17b5ec-6898-4fbb-9bab-a62b9653d7a0",
   "metadata": {},
   "outputs": [
    {
     "data": {
      "text/plain": [
       "list"
      ]
     },
     "execution_count": 18,
     "metadata": {},
     "output_type": "execute_result"
    }
   ],
   "source": [
    "type(a)"
   ]
  },
  {
   "cell_type": "code",
   "execution_count": 19,
   "id": "1e5bde72-4e8a-484f-add4-4afd4a95d63d",
   "metadata": {},
   "outputs": [
    {
     "name": "stdout",
     "output_type": "stream",
     "text": [
      "[1, 2, [0, -1, 2], 'test', 'example']\n",
      "<class 'list'>\n"
     ]
    }
   ],
   "source": [
    "b = [1, 2, [0, -1, 2], 'test', 'example']\n",
    "print(b)\n",
    "print(type(b))"
   ]
  },
  {
   "cell_type": "markdown",
   "id": "1b965c6f-dc76-47f2-b452-dee4f6fff19d",
   "metadata": {},
   "source": [
    "## Numpy arrays"
   ]
  },
  {
   "cell_type": "markdown",
   "id": "354b2baf-1c97-49d0-8aab-94e4668c357a",
   "metadata": {},
   "source": [
    "### Two dimensional arrays"
   ]
  },
  {
   "cell_type": "code",
   "execution_count": 20,
   "id": "580ea5c4-cfee-428f-913f-f3d78c10b179",
   "metadata": {},
   "outputs": [],
   "source": [
    "arr = np.array([[0, 1, 0], [0, 1, 2], [2, 1, 0]])"
   ]
  },
  {
   "cell_type": "code",
   "execution_count": 21,
   "id": "69d76d5c-dc6b-4af3-b86f-2fef16e13106",
   "metadata": {},
   "outputs": [
    {
     "data": {
      "text/plain": [
       "array([[0, 1, 0],\n",
       "       [0, 1, 2],\n",
       "       [2, 1, 0]])"
      ]
     },
     "execution_count": 21,
     "metadata": {},
     "output_type": "execute_result"
    }
   ],
   "source": [
    "arr"
   ]
  },
  {
   "cell_type": "code",
   "execution_count": 22,
   "id": "5647cc7a-26d0-48e3-93ea-10401dc689f9",
   "metadata": {},
   "outputs": [
    {
     "name": "stdout",
     "output_type": "stream",
     "text": [
      "[[0 1 0]\n",
      " [0 1 2]\n",
      " [2 1 0]]\n"
     ]
    }
   ],
   "source": [
    "print(arr)"
   ]
  },
  {
   "cell_type": "code",
   "execution_count": 23,
   "id": "40ad68b2-a333-4bb8-a9f2-6893f57e44ae",
   "metadata": {},
   "outputs": [
    {
     "data": {
      "text/plain": [
       "numpy.ndarray"
      ]
     },
     "execution_count": 23,
     "metadata": {},
     "output_type": "execute_result"
    }
   ],
   "source": [
    "type(arr)"
   ]
  },
  {
   "cell_type": "markdown",
   "id": "fa402b52-351a-4d92-b6af-374ec382ef06",
   "metadata": {},
   "source": [
    "### One dimensional array"
   ]
  },
  {
   "cell_type": "code",
   "execution_count": 24,
   "id": "4f887d81-7b1d-4bdd-add0-30e39ee99ea9",
   "metadata": {},
   "outputs": [],
   "source": [
    "b = np.array([-1, 0, 2])"
   ]
  },
  {
   "cell_type": "code",
   "execution_count": 25,
   "id": "9db76fa3-f266-4ac5-8388-c06519daf5e1",
   "metadata": {},
   "outputs": [
    {
     "data": {
      "text/plain": [
       "array([-1,  0,  2])"
      ]
     },
     "execution_count": 25,
     "metadata": {},
     "output_type": "execute_result"
    }
   ],
   "source": [
    "b"
   ]
  },
  {
   "cell_type": "code",
   "execution_count": 26,
   "id": "fe31273c-ff20-4fc4-bec4-dd00cb513709",
   "metadata": {},
   "outputs": [
    {
     "data": {
      "text/plain": [
       "numpy.ndarray"
      ]
     },
     "execution_count": 26,
     "metadata": {},
     "output_type": "execute_result"
    }
   ],
   "source": [
    "type(b)"
   ]
  },
  {
   "cell_type": "markdown",
   "id": "34f847f2-8aed-4103-9786-d8b84a1e83d9",
   "metadata": {},
   "source": [
    "## Sparse arrays"
   ]
  },
  {
   "cell_type": "code",
   "execution_count": 27,
   "id": "4d75c511-4940-45fd-b39b-dc512c0d907e",
   "metadata": {},
   "outputs": [
    {
     "data": {
      "text/plain": [
       "array([[0, 0, 1],\n",
       "       [0, 1, 0],\n",
       "       [2, 0, 0]])"
      ]
     },
     "execution_count": 27,
     "metadata": {},
     "output_type": "execute_result"
    }
   ],
   "source": [
    "example_array = np.array([[0, 0, 1], [0, 1, 0], [2, 0, 0]])\n",
    "example_array"
   ]
  },
  {
   "cell_type": "code",
   "execution_count": 28,
   "id": "dba9eff6-619d-44b6-85bc-7b922e699ebb",
   "metadata": {},
   "outputs": [],
   "source": [
    "example_sp = scipy.sparse.csr_matrix(example_array)"
   ]
  },
  {
   "cell_type": "code",
   "execution_count": 29,
   "id": "2de98e67-11cf-45c0-bb3e-262d281f2670",
   "metadata": {},
   "outputs": [
    {
     "data": {
      "text/plain": [
       "<Compressed Sparse Row sparse matrix of dtype 'int64'\n",
       "\twith 3 stored elements and shape (3, 3)>"
      ]
     },
     "execution_count": 29,
     "metadata": {},
     "output_type": "execute_result"
    }
   ],
   "source": [
    "example_sp"
   ]
  },
  {
   "cell_type": "markdown",
   "id": "f3673395-2280-4df3-a789-5d94569ef7fc",
   "metadata": {},
   "source": [
    "## Pandas dataframe"
   ]
  },
  {
   "cell_type": "code",
   "execution_count": 30,
   "id": "53fee093-7719-4e47-bbe0-37b650416296",
   "metadata": {},
   "outputs": [],
   "source": [
    "example_df = pd.DataFrame(index = ['Cell-0', 'Cell-1', 'Cell-2'], \n",
    "                          columns = ['Gene-A', 'Gene-B'], \n",
    "                          data = [[0, 1], [2, 0], [1, 1]])"
   ]
  },
  {
   "cell_type": "code",
   "execution_count": 31,
   "id": "05c92a99-3ff4-4cd7-81b6-55239e834814",
   "metadata": {},
   "outputs": [
    {
     "data": {
      "text/html": [
       "<div>\n",
       "<style scoped>\n",
       "    .dataframe tbody tr th:only-of-type {\n",
       "        vertical-align: middle;\n",
       "    }\n",
       "\n",
       "    .dataframe tbody tr th {\n",
       "        vertical-align: top;\n",
       "    }\n",
       "\n",
       "    .dataframe thead th {\n",
       "        text-align: right;\n",
       "    }\n",
       "</style>\n",
       "<table border=\"1\" class=\"dataframe\">\n",
       "  <thead>\n",
       "    <tr style=\"text-align: right;\">\n",
       "      <th></th>\n",
       "      <th>Gene-A</th>\n",
       "      <th>Gene-B</th>\n",
       "    </tr>\n",
       "  </thead>\n",
       "  <tbody>\n",
       "    <tr>\n",
       "      <th>Cell-0</th>\n",
       "      <td>0</td>\n",
       "      <td>1</td>\n",
       "    </tr>\n",
       "    <tr>\n",
       "      <th>Cell-1</th>\n",
       "      <td>2</td>\n",
       "      <td>0</td>\n",
       "    </tr>\n",
       "    <tr>\n",
       "      <th>Cell-2</th>\n",
       "      <td>1</td>\n",
       "      <td>1</td>\n",
       "    </tr>\n",
       "  </tbody>\n",
       "</table>\n",
       "</div>"
      ],
      "text/plain": [
       "        Gene-A  Gene-B\n",
       "Cell-0       0       1\n",
       "Cell-1       2       0\n",
       "Cell-2       1       1"
      ]
     },
     "execution_count": 31,
     "metadata": {},
     "output_type": "execute_result"
    }
   ],
   "source": [
    "example_df"
   ]
  },
  {
   "cell_type": "code",
   "execution_count": 32,
   "id": "a67c4ec8-486f-43a8-9609-e13da5494a8d",
   "metadata": {},
   "outputs": [
    {
     "data": {
      "text/plain": [
       "Gene-A    0\n",
       "Gene-B    1\n",
       "Name: Cell-0, dtype: int64"
      ]
     },
     "execution_count": 32,
     "metadata": {},
     "output_type": "execute_result"
    }
   ],
   "source": [
    "example_df.loc['Cell-0']"
   ]
  },
  {
   "cell_type": "code",
   "execution_count": 33,
   "id": "69257da1-12db-432e-8596-7412da0088a4",
   "metadata": {},
   "outputs": [
    {
     "data": {
      "text/plain": [
       "Cell-0    0\n",
       "Cell-1    2\n",
       "Cell-2    1\n",
       "Name: Gene-A, dtype: int64"
      ]
     },
     "execution_count": 33,
     "metadata": {},
     "output_type": "execute_result"
    }
   ],
   "source": [
    "example_df['Gene-A']"
   ]
  },
  {
   "cell_type": "markdown",
   "id": "93da437e-8729-4634-883f-d2efb7b815cc",
   "metadata": {},
   "source": [
    "### Define dataframe through arrays"
   ]
  },
  {
   "cell_type": "code",
   "execution_count": 34,
   "id": "de403053-9838-42e6-ac73-fb01faeb75da",
   "metadata": {},
   "outputs": [
    {
     "data": {
      "text/plain": [
       "array([['A', 'B', 'C'],\n",
       "       ['D', 'E', 'F'],\n",
       "       ['G', 'H', 'I']], dtype='<U1')"
      ]
     },
     "execution_count": 34,
     "metadata": {},
     "output_type": "execute_result"
    }
   ],
   "source": [
    "example_array = np.array([['A', 'B', 'C'], ['D', 'E', 'F'], ['G', 'H', 'I']])\n",
    "example_array"
   ]
  },
  {
   "cell_type": "code",
   "execution_count": 35,
   "id": "d859b20f-bded-48ac-a486-f4ed324f01be",
   "metadata": {},
   "outputs": [],
   "source": [
    "example_df2 = pd.DataFrame(example_array)"
   ]
  },
  {
   "cell_type": "code",
   "execution_count": 36,
   "id": "9df78265-08d1-4fcb-bdb5-b7208ae22b95",
   "metadata": {},
   "outputs": [
    {
     "data": {
      "text/html": [
       "<div>\n",
       "<style scoped>\n",
       "    .dataframe tbody tr th:only-of-type {\n",
       "        vertical-align: middle;\n",
       "    }\n",
       "\n",
       "    .dataframe tbody tr th {\n",
       "        vertical-align: top;\n",
       "    }\n",
       "\n",
       "    .dataframe thead th {\n",
       "        text-align: right;\n",
       "    }\n",
       "</style>\n",
       "<table border=\"1\" class=\"dataframe\">\n",
       "  <thead>\n",
       "    <tr style=\"text-align: right;\">\n",
       "      <th></th>\n",
       "      <th>0</th>\n",
       "      <th>1</th>\n",
       "      <th>2</th>\n",
       "    </tr>\n",
       "  </thead>\n",
       "  <tbody>\n",
       "    <tr>\n",
       "      <th>0</th>\n",
       "      <td>A</td>\n",
       "      <td>B</td>\n",
       "      <td>C</td>\n",
       "    </tr>\n",
       "    <tr>\n",
       "      <th>1</th>\n",
       "      <td>D</td>\n",
       "      <td>E</td>\n",
       "      <td>F</td>\n",
       "    </tr>\n",
       "    <tr>\n",
       "      <th>2</th>\n",
       "      <td>G</td>\n",
       "      <td>H</td>\n",
       "      <td>I</td>\n",
       "    </tr>\n",
       "  </tbody>\n",
       "</table>\n",
       "</div>"
      ],
      "text/plain": [
       "   0  1  2\n",
       "0  A  B  C\n",
       "1  D  E  F\n",
       "2  G  H  I"
      ]
     },
     "execution_count": 36,
     "metadata": {},
     "output_type": "execute_result"
    }
   ],
   "source": [
    "example_df2"
   ]
  },
  {
   "cell_type": "code",
   "execution_count": 37,
   "id": "971fdcc7-7ee6-4ba8-afbc-cceba176489b",
   "metadata": {},
   "outputs": [],
   "source": [
    "example_df2.index = ['Q0', 'Q1', 'Q2']"
   ]
  },
  {
   "cell_type": "code",
   "execution_count": 38,
   "id": "06863b72-cca9-4be6-bbe3-709fcd742783",
   "metadata": {},
   "outputs": [],
   "source": [
    "example_df2.columns = ['W0', 'W1', 'W2']"
   ]
  },
  {
   "cell_type": "code",
   "execution_count": 39,
   "id": "9d5ab112-e859-4bea-9580-50d330b7606b",
   "metadata": {},
   "outputs": [
    {
     "data": {
      "text/html": [
       "<div>\n",
       "<style scoped>\n",
       "    .dataframe tbody tr th:only-of-type {\n",
       "        vertical-align: middle;\n",
       "    }\n",
       "\n",
       "    .dataframe tbody tr th {\n",
       "        vertical-align: top;\n",
       "    }\n",
       "\n",
       "    .dataframe thead th {\n",
       "        text-align: right;\n",
       "    }\n",
       "</style>\n",
       "<table border=\"1\" class=\"dataframe\">\n",
       "  <thead>\n",
       "    <tr style=\"text-align: right;\">\n",
       "      <th></th>\n",
       "      <th>W0</th>\n",
       "      <th>W1</th>\n",
       "      <th>W2</th>\n",
       "    </tr>\n",
       "  </thead>\n",
       "  <tbody>\n",
       "    <tr>\n",
       "      <th>Q0</th>\n",
       "      <td>A</td>\n",
       "      <td>B</td>\n",
       "      <td>C</td>\n",
       "    </tr>\n",
       "    <tr>\n",
       "      <th>Q1</th>\n",
       "      <td>D</td>\n",
       "      <td>E</td>\n",
       "      <td>F</td>\n",
       "    </tr>\n",
       "    <tr>\n",
       "      <th>Q2</th>\n",
       "      <td>G</td>\n",
       "      <td>H</td>\n",
       "      <td>I</td>\n",
       "    </tr>\n",
       "  </tbody>\n",
       "</table>\n",
       "</div>"
      ],
      "text/plain": [
       "   W0 W1 W2\n",
       "Q0  A  B  C\n",
       "Q1  D  E  F\n",
       "Q2  G  H  I"
      ]
     },
     "execution_count": 39,
     "metadata": {},
     "output_type": "execute_result"
    }
   ],
   "source": [
    "example_df2"
   ]
  },
  {
   "cell_type": "markdown",
   "id": "41b018ed-3c98-4c0a-aedf-6df794fda259",
   "metadata": {},
   "source": [
    "## Dictionary"
   ]
  },
  {
   "cell_type": "code",
   "execution_count": 40,
   "id": "9038c847-b76f-4c72-a292-40cb93c74fc3",
   "metadata": {},
   "outputs": [],
   "source": [
    "dictionary_example1 = {'key1' : 'value1', 'key2': 'value2'}"
   ]
  },
  {
   "cell_type": "code",
   "execution_count": 41,
   "id": "3ca915d2-b639-4f0f-bb25-b8de3f9b1677",
   "metadata": {},
   "outputs": [
    {
     "data": {
      "text/plain": [
       "'value1'"
      ]
     },
     "execution_count": 41,
     "metadata": {},
     "output_type": "execute_result"
    }
   ],
   "source": [
    "dictionary_example1['key1']"
   ]
  },
  {
   "cell_type": "code",
   "execution_count": 42,
   "id": "8d16186a-f9f6-4fe3-86bf-6ab69279e6d2",
   "metadata": {},
   "outputs": [
    {
     "data": {
      "text/plain": [
       "'value2'"
      ]
     },
     "execution_count": 42,
     "metadata": {},
     "output_type": "execute_result"
    }
   ],
   "source": [
    "dictionary_example1['key2']"
   ]
  },
  {
   "cell_type": "code",
   "execution_count": 43,
   "id": "c8cfbac6-8ca5-4574-8be3-a8535831b8e1",
   "metadata": {},
   "outputs": [],
   "source": [
    "dictionary_example1 = {'Gene program-1': ['Gene-A', 'Gene-B', 'Gene-C'], \n",
    "                       'Gene program-2': ['Gene-C', 'Gene-D']}\n",
    "dictionary_example1['Gene program-3'] = ['Gene-E', 'Gene-A']"
   ]
  },
  {
   "cell_type": "code",
   "execution_count": 44,
   "id": "9ff717f5-c560-4f2e-947f-bcbe2f717528",
   "metadata": {},
   "outputs": [
    {
     "data": {
      "text/plain": [
       "['Gene-C', 'Gene-D']"
      ]
     },
     "execution_count": 44,
     "metadata": {},
     "output_type": "execute_result"
    }
   ],
   "source": [
    "dictionary_example1['Gene program-2']"
   ]
  },
  {
   "cell_type": "markdown",
   "id": "b05e01ba-711f-46cb-bbcc-0a45ed2c72dc",
   "metadata": {},
   "source": [
    "# AnnData"
   ]
  },
  {
   "cell_type": "code",
   "execution_count": 49,
   "id": "231445bd-7968-432c-81f0-c3695ceb3626",
   "metadata": {},
   "outputs": [
    {
     "name": "stderr",
     "output_type": "stream",
     "text": [
      "/Users/sharmar1/opt/anaconda3/envs/workshop_2025/lib/python3.10/site-packages/anndata/_core/anndata.py:1758: UserWarning: Variable names are not unique. To make them unique, call `.var_names_make_unique`.\n",
      "  utils.warn_names_duplicates(\"var\")\n",
      "/Users/sharmar1/opt/anaconda3/envs/workshop_2025/lib/python3.10/site-packages/anndata/_core/anndata.py:1758: UserWarning: Variable names are not unique. To make them unique, call `.var_names_make_unique`.\n",
      "  utils.warn_names_duplicates(\"var\")\n"
     ]
    }
   ],
   "source": [
    "adata = sc.read_10x_h5('/Users/sharmar1/Dropbox/msk_workshop/SCALE_2024_winter/scale_2024_winter_day1/data/pbmc_10k_v3_filtered_feature_bc_matrix.h5')"
   ]
  },
  {
   "cell_type": "code",
   "execution_count": 74,
   "id": "ab694de8-00d2-491f-abe9-929051bda5c3",
   "metadata": {},
   "outputs": [],
   "source": [
    "adata.var_names_make_unique()"
   ]
  },
  {
   "cell_type": "code",
   "execution_count": 75,
   "id": "7fed5367-d83e-49b8-ba6b-742bbc4973dd",
   "metadata": {},
   "outputs": [
    {
     "data": {
      "text/plain": [
       "AnnData object with n_obs × n_vars = 11769 × 33538\n",
       "    obs: 'n_genes_by_counts', 'log1p_n_genes_by_counts', 'total_counts', 'log1p_total_counts', 'pct_counts_in_top_50_genes', 'pct_counts_in_top_100_genes', 'pct_counts_in_top_200_genes', 'pct_counts_in_top_500_genes'\n",
       "    var: 'gene_ids', 'feature_types', 'genome', 'n_cells_by_counts', 'mean_counts', 'log1p_mean_counts', 'pct_dropout_by_counts', 'total_counts', 'log1p_total_counts'\n",
       "    uns: 'pca'\n",
       "    obsm: 'X_pca'\n",
       "    varm: 'PCs'"
      ]
     },
     "execution_count": 75,
     "metadata": {},
     "output_type": "execute_result"
    }
   ],
   "source": [
    "adata"
   ]
  },
  {
   "cell_type": "code",
   "execution_count": 51,
   "id": "aa9fe40b-e622-46c7-a12c-2156b281498e",
   "metadata": {},
   "outputs": [
    {
     "data": {
      "text/html": [
       "<div>\n",
       "<style scoped>\n",
       "    .dataframe tbody tr th:only-of-type {\n",
       "        vertical-align: middle;\n",
       "    }\n",
       "\n",
       "    .dataframe tbody tr th {\n",
       "        vertical-align: top;\n",
       "    }\n",
       "\n",
       "    .dataframe thead th {\n",
       "        text-align: right;\n",
       "    }\n",
       "</style>\n",
       "<table border=\"1\" class=\"dataframe\">\n",
       "  <thead>\n",
       "    <tr style=\"text-align: right;\">\n",
       "      <th></th>\n",
       "    </tr>\n",
       "  </thead>\n",
       "  <tbody>\n",
       "    <tr>\n",
       "      <th>AAACCCAAGCGCCCAT-1</th>\n",
       "    </tr>\n",
       "    <tr>\n",
       "      <th>AAACCCAAGGTTCCGC-1</th>\n",
       "    </tr>\n",
       "    <tr>\n",
       "      <th>AAACCCACAGAGTTGG-1</th>\n",
       "    </tr>\n",
       "    <tr>\n",
       "      <th>AAACCCACAGGTATGG-1</th>\n",
       "    </tr>\n",
       "    <tr>\n",
       "      <th>AAACCCACATAGTCAC-1</th>\n",
       "    </tr>\n",
       "    <tr>\n",
       "      <th>...</th>\n",
       "    </tr>\n",
       "    <tr>\n",
       "      <th>TTTGTTGGTGTCATGT-1</th>\n",
       "    </tr>\n",
       "    <tr>\n",
       "      <th>TTTGTTGGTTTGAACC-1</th>\n",
       "    </tr>\n",
       "    <tr>\n",
       "      <th>TTTGTTGTCCAAGCCG-1</th>\n",
       "    </tr>\n",
       "    <tr>\n",
       "      <th>TTTGTTGTCTTACTGT-1</th>\n",
       "    </tr>\n",
       "    <tr>\n",
       "      <th>TTTGTTGTCTTCTAAC-1</th>\n",
       "    </tr>\n",
       "  </tbody>\n",
       "</table>\n",
       "<p>11769 rows × 0 columns</p>\n",
       "</div>"
      ],
      "text/plain": [
       "Empty DataFrame\n",
       "Columns: []\n",
       "Index: [AAACCCAAGCGCCCAT-1, AAACCCAAGGTTCCGC-1, AAACCCACAGAGTTGG-1, AAACCCACAGGTATGG-1, AAACCCACATAGTCAC-1, AAACCCACATCCAATG-1, AAACCCAGTGGCTACC-1, AAACCCATCCCGAGAC-1, AAACCCATCTGGCCGA-1, AAACCCATCTGTTCAT-1, AAACGAAAGACGACGT-1, AAACGAAAGACGTCGA-1, AAACGAAAGGAGTCTG-1, AAACGAACAAGAATGT-1, AAACGAACAATACCCA-1, AAACGAACACAAGCTT-1, AAACGAACACGACGTC-1, AAACGAAGTCATGCAT-1, AAACGAAGTTATGTCG-1, AAACGAATCTACTTCA-1, AAACGCTAGACAACTA-1, AAACGCTAGAGGTTTA-1, AAACGCTAGCACCAGA-1, AAACGCTAGGCAGGTT-1, AAACGCTAGGTTAAAC-1, AAACGCTAGTATGAAC-1, AAACGCTCAATCCTAG-1, AAACGCTCACGCAAAG-1, AAACGCTCAGTCTTCC-1, AAACGCTCATAGTCAC-1, AAACGCTCATGGATCT-1, AAACGCTGTCAGACGA-1, AAACGCTGTCCCTAAA-1, AAACGCTGTCGATTTG-1, AAACGCTGTCTACATG-1, AAAGAACAGTTCCGTA-1, AAAGAACGTATCCTCC-1, AAAGAACGTATTCCGA-1, AAAGAACGTCTCGGGT-1, AAAGAACGTTTGTTGG-1, AAAGAACTCCTCCACA-1, AAAGAACTCGCGTGCA-1, AAAGAACTCTCATAGG-1, AAAGGATAGCAGTAAT-1, AAAGGATAGTGAATAC-1, AAAGGATCAAACAGGC-1, AAAGGATGTCGGTGAA-1, AAAGGATGTGTCCAAT-1, AAAGGATGTGTGGTCC-1, AAAGGATTCAAGGACG-1, AAAGGATTCATTGTTC-1, AAAGGATTCCTAACAG-1, AAAGGATTCGTAACAC-1, AAAGGATTCTGCGGGT-1, AAAGGATTCTTTGCAT-1, AAAGGGCAGGGACCAT-1, AAAGGGCAGTTCCGGC-1, AAAGGGCCACGTCGTG-1, AAAGGGCCAGGTTCGC-1, AAAGGGCCATCATCCC-1, AAAGGGCGTTACGTAC-1, AAAGGGCTCATTTGGG-1, AAAGGGCTCCAACTGA-1, AAAGGGCTCCTGGGAC-1, AAAGGGCTCTCAAAGC-1, AAAGGGCTCTTCCACG-1, AAAGGTAAGGGTCACA-1, AAAGGTACAAGAATGT-1, AAAGGTACAGCTACAT-1, AAAGGTAGTATTTCTC-1, AAAGGTAGTCTACACA-1, AAAGGTAGTGCTATTG-1, AAAGGTAGTTAAGGAT-1, AAAGGTAGTTGTCATG-1, AAAGGTATCATAGAGA-1, AAAGGTATCGCAGAGA-1, AAAGTCCAGACCAAGC-1, AAAGTCCAGCAGGCTA-1, AAAGTCCAGTCACACT-1, AAAGTCCCAAGCTGTT-1, AAAGTCCCAAGTGGTG-1, AAAGTCCGTCGAAACG-1, AAAGTCCGTTCCCACT-1, AAAGTCCGTTCGGTTA-1, AAAGTCCTCAACTACG-1, AAAGTCCTCAGCGGAA-1, AAAGTCCTCCAAGGGA-1, AAAGTCCTCTGGGTCG-1, AAAGTGAAGAGTGGCT-1, AAAGTGAAGCATGATA-1, AAAGTGAAGCGGGTAT-1, AAAGTGAAGGTACATA-1, AAAGTGACAGATCCTA-1, AAAGTGACATAGGTTC-1, AAAGTGACATCGAACT-1, AAAGTGACATGACGGA-1, AAAGTGACATGCAGCC-1, AAAGTGAGTACCGTCG-1, AAAGTGAGTTAAGACA-1, AAAGTGATCAATGTCG-1, ...]\n",
       "\n",
       "[11769 rows x 0 columns]"
      ]
     },
     "execution_count": 51,
     "metadata": {},
     "output_type": "execute_result"
    }
   ],
   "source": [
    "adata.obs"
   ]
  },
  {
   "cell_type": "code",
   "execution_count": 52,
   "id": "1345c668-f36c-40ba-ae86-488f81294b93",
   "metadata": {},
   "outputs": [
    {
     "data": {
      "text/plain": [
       "pandas.core.frame.DataFrame"
      ]
     },
     "execution_count": 52,
     "metadata": {},
     "output_type": "execute_result"
    }
   ],
   "source": [
    "type(adata.obs)"
   ]
  },
  {
   "cell_type": "code",
   "execution_count": 53,
   "id": "774e1608-66b4-4026-818f-9abfd9410e50",
   "metadata": {},
   "outputs": [
    {
     "data": {
      "text/html": [
       "<div>\n",
       "<style scoped>\n",
       "    .dataframe tbody tr th:only-of-type {\n",
       "        vertical-align: middle;\n",
       "    }\n",
       "\n",
       "    .dataframe tbody tr th {\n",
       "        vertical-align: top;\n",
       "    }\n",
       "\n",
       "    .dataframe thead th {\n",
       "        text-align: right;\n",
       "    }\n",
       "</style>\n",
       "<table border=\"1\" class=\"dataframe\">\n",
       "  <thead>\n",
       "    <tr style=\"text-align: right;\">\n",
       "      <th></th>\n",
       "      <th>gene_ids</th>\n",
       "      <th>feature_types</th>\n",
       "      <th>genome</th>\n",
       "    </tr>\n",
       "  </thead>\n",
       "  <tbody>\n",
       "    <tr>\n",
       "      <th>MIR1302-2HG</th>\n",
       "      <td>ENSG00000243485</td>\n",
       "      <td>Gene Expression</td>\n",
       "      <td>GRCh38</td>\n",
       "    </tr>\n",
       "    <tr>\n",
       "      <th>FAM138A</th>\n",
       "      <td>ENSG00000237613</td>\n",
       "      <td>Gene Expression</td>\n",
       "      <td>GRCh38</td>\n",
       "    </tr>\n",
       "    <tr>\n",
       "      <th>OR4F5</th>\n",
       "      <td>ENSG00000186092</td>\n",
       "      <td>Gene Expression</td>\n",
       "      <td>GRCh38</td>\n",
       "    </tr>\n",
       "    <tr>\n",
       "      <th>AL627309.1</th>\n",
       "      <td>ENSG00000238009</td>\n",
       "      <td>Gene Expression</td>\n",
       "      <td>GRCh38</td>\n",
       "    </tr>\n",
       "    <tr>\n",
       "      <th>AL627309.3</th>\n",
       "      <td>ENSG00000239945</td>\n",
       "      <td>Gene Expression</td>\n",
       "      <td>GRCh38</td>\n",
       "    </tr>\n",
       "    <tr>\n",
       "      <th>...</th>\n",
       "      <td>...</td>\n",
       "      <td>...</td>\n",
       "      <td>...</td>\n",
       "    </tr>\n",
       "    <tr>\n",
       "      <th>AC233755.2</th>\n",
       "      <td>ENSG00000277856</td>\n",
       "      <td>Gene Expression</td>\n",
       "      <td>GRCh38</td>\n",
       "    </tr>\n",
       "    <tr>\n",
       "      <th>AC233755.1</th>\n",
       "      <td>ENSG00000275063</td>\n",
       "      <td>Gene Expression</td>\n",
       "      <td>GRCh38</td>\n",
       "    </tr>\n",
       "    <tr>\n",
       "      <th>AC240274.1</th>\n",
       "      <td>ENSG00000271254</td>\n",
       "      <td>Gene Expression</td>\n",
       "      <td>GRCh38</td>\n",
       "    </tr>\n",
       "    <tr>\n",
       "      <th>AC213203.1</th>\n",
       "      <td>ENSG00000277475</td>\n",
       "      <td>Gene Expression</td>\n",
       "      <td>GRCh38</td>\n",
       "    </tr>\n",
       "    <tr>\n",
       "      <th>FAM231C</th>\n",
       "      <td>ENSG00000268674</td>\n",
       "      <td>Gene Expression</td>\n",
       "      <td>GRCh38</td>\n",
       "    </tr>\n",
       "  </tbody>\n",
       "</table>\n",
       "<p>33538 rows × 3 columns</p>\n",
       "</div>"
      ],
      "text/plain": [
       "                    gene_ids    feature_types  genome\n",
       "MIR1302-2HG  ENSG00000243485  Gene Expression  GRCh38\n",
       "FAM138A      ENSG00000237613  Gene Expression  GRCh38\n",
       "OR4F5        ENSG00000186092  Gene Expression  GRCh38\n",
       "AL627309.1   ENSG00000238009  Gene Expression  GRCh38\n",
       "AL627309.3   ENSG00000239945  Gene Expression  GRCh38\n",
       "...                      ...              ...     ...\n",
       "AC233755.2   ENSG00000277856  Gene Expression  GRCh38\n",
       "AC233755.1   ENSG00000275063  Gene Expression  GRCh38\n",
       "AC240274.1   ENSG00000271254  Gene Expression  GRCh38\n",
       "AC213203.1   ENSG00000277475  Gene Expression  GRCh38\n",
       "FAM231C      ENSG00000268674  Gene Expression  GRCh38\n",
       "\n",
       "[33538 rows x 3 columns]"
      ]
     },
     "execution_count": 53,
     "metadata": {},
     "output_type": "execute_result"
    }
   ],
   "source": [
    "adata.var"
   ]
  },
  {
   "cell_type": "code",
   "execution_count": 54,
   "id": "8c15e9b9-6737-493a-8eb7-f7a07554f257",
   "metadata": {},
   "outputs": [
    {
     "data": {
      "text/plain": [
       "pandas.core.frame.DataFrame"
      ]
     },
     "execution_count": 54,
     "metadata": {},
     "output_type": "execute_result"
    }
   ],
   "source": [
    "type(adata.var)"
   ]
  },
  {
   "cell_type": "code",
   "execution_count": 55,
   "id": "e50106c9-583c-45c0-a44d-b13fcbc331c7",
   "metadata": {},
   "outputs": [
    {
     "data": {
      "text/plain": [
       "<Compressed Sparse Row sparse matrix of dtype 'float32'\n",
       "\twith 24825783 stored elements and shape (11769, 33538)>"
      ]
     },
     "execution_count": 55,
     "metadata": {},
     "output_type": "execute_result"
    }
   ],
   "source": [
    "adata.X"
   ]
  },
  {
   "cell_type": "code",
   "execution_count": 56,
   "id": "452980e5-6a75-4a4c-8fde-ea2c5e2e7670",
   "metadata": {},
   "outputs": [
    {
     "data": {
      "text/plain": [
       "array([[0., 0., 0., ..., 0., 0., 0.],\n",
       "       [0., 0., 0., ..., 0., 0., 0.],\n",
       "       [0., 0., 0., ..., 0., 0., 0.],\n",
       "       ...,\n",
       "       [0., 0., 0., ..., 0., 0., 0.],\n",
       "       [0., 0., 0., ..., 0., 0., 0.],\n",
       "       [0., 0., 0., ..., 0., 0., 0.]], dtype=float32)"
      ]
     },
     "execution_count": 56,
     "metadata": {},
     "output_type": "execute_result"
    }
   ],
   "source": [
    "adata.X.toarray()"
   ]
  },
  {
   "cell_type": "code",
   "execution_count": 57,
   "id": "f3741316-ff75-4249-bf94-8d25573214d7",
   "metadata": {},
   "outputs": [
    {
     "data": {
      "text/plain": [
       "array([1., 4., 2., ..., 1., 1., 1.], dtype=float32)"
      ]
     },
     "execution_count": 57,
     "metadata": {},
     "output_type": "execute_result"
    }
   ],
   "source": [
    "adata.X.data"
   ]
  },
  {
   "cell_type": "code",
   "execution_count": 58,
   "id": "e1f22c9b-b9b4-4077-8e82-b0a25bf5ec9b",
   "metadata": {},
   "outputs": [
    {
     "name": "stderr",
     "output_type": "stream",
     "text": [
      "OMP: Info #276: omp_set_nested routine deprecated, please use omp_set_max_active_levels instead.\n"
     ]
    }
   ],
   "source": [
    "sc.pp.calculate_qc_metrics(adata, inplace=True)"
   ]
  },
  {
   "cell_type": "code",
   "execution_count": 59,
   "id": "10294276-3185-4208-a502-0c3a4dc86472",
   "metadata": {},
   "outputs": [
    {
     "data": {
      "text/plain": [
       "AnnData object with n_obs × n_vars = 11769 × 33538\n",
       "    obs: 'n_genes_by_counts', 'log1p_n_genes_by_counts', 'total_counts', 'log1p_total_counts', 'pct_counts_in_top_50_genes', 'pct_counts_in_top_100_genes', 'pct_counts_in_top_200_genes', 'pct_counts_in_top_500_genes'\n",
       "    var: 'gene_ids', 'feature_types', 'genome', 'n_cells_by_counts', 'mean_counts', 'log1p_mean_counts', 'pct_dropout_by_counts', 'total_counts', 'log1p_total_counts'"
      ]
     },
     "execution_count": 59,
     "metadata": {},
     "output_type": "execute_result"
    }
   ],
   "source": [
    "adata"
   ]
  },
  {
   "cell_type": "code",
   "execution_count": 60,
   "id": "ca0ccd62-30d5-4e27-887a-f58f88e41a9b",
   "metadata": {},
   "outputs": [
    {
     "data": {
      "text/html": [
       "<div>\n",
       "<style scoped>\n",
       "    .dataframe tbody tr th:only-of-type {\n",
       "        vertical-align: middle;\n",
       "    }\n",
       "\n",
       "    .dataframe tbody tr th {\n",
       "        vertical-align: top;\n",
       "    }\n",
       "\n",
       "    .dataframe thead th {\n",
       "        text-align: right;\n",
       "    }\n",
       "</style>\n",
       "<table border=\"1\" class=\"dataframe\">\n",
       "  <thead>\n",
       "    <tr style=\"text-align: right;\">\n",
       "      <th></th>\n",
       "      <th>n_genes_by_counts</th>\n",
       "      <th>log1p_n_genes_by_counts</th>\n",
       "      <th>total_counts</th>\n",
       "      <th>log1p_total_counts</th>\n",
       "      <th>pct_counts_in_top_50_genes</th>\n",
       "      <th>pct_counts_in_top_100_genes</th>\n",
       "      <th>pct_counts_in_top_200_genes</th>\n",
       "      <th>pct_counts_in_top_500_genes</th>\n",
       "    </tr>\n",
       "  </thead>\n",
       "  <tbody>\n",
       "    <tr>\n",
       "      <th>AAACCCAAGCGCCCAT-1</th>\n",
       "      <td>1087</td>\n",
       "      <td>6.992096</td>\n",
       "      <td>2204.0</td>\n",
       "      <td>7.698483</td>\n",
       "      <td>34.437387</td>\n",
       "      <td>44.782214</td>\n",
       "      <td>55.716878</td>\n",
       "      <td>73.366606</td>\n",
       "    </tr>\n",
       "    <tr>\n",
       "      <th>AAACCCAAGGTTCCGC-1</th>\n",
       "      <td>4200</td>\n",
       "      <td>8.343078</td>\n",
       "      <td>20090.0</td>\n",
       "      <td>9.908028</td>\n",
       "      <td>30.751618</td>\n",
       "      <td>43.753111</td>\n",
       "      <td>55.739174</td>\n",
       "      <td>67.819811</td>\n",
       "    </tr>\n",
       "    <tr>\n",
       "      <th>AAACCCACAGAGTTGG-1</th>\n",
       "      <td>1836</td>\n",
       "      <td>7.515889</td>\n",
       "      <td>5884.0</td>\n",
       "      <td>8.680162</td>\n",
       "      <td>42.641061</td>\n",
       "      <td>52.923182</td>\n",
       "      <td>62.542488</td>\n",
       "      <td>75.254929</td>\n",
       "    </tr>\n",
       "    <tr>\n",
       "      <th>AAACCCACAGGTATGG-1</th>\n",
       "      <td>2216</td>\n",
       "      <td>7.703910</td>\n",
       "      <td>5530.0</td>\n",
       "      <td>8.618124</td>\n",
       "      <td>32.839060</td>\n",
       "      <td>41.681736</td>\n",
       "      <td>51.175407</td>\n",
       "      <td>65.280289</td>\n",
       "    </tr>\n",
       "    <tr>\n",
       "      <th>AAACCCACATAGTCAC-1</th>\n",
       "      <td>1615</td>\n",
       "      <td>7.387709</td>\n",
       "      <td>5106.0</td>\n",
       "      <td>8.538367</td>\n",
       "      <td>41.676459</td>\n",
       "      <td>56.423815</td>\n",
       "      <td>65.648257</td>\n",
       "      <td>78.162946</td>\n",
       "    </tr>\n",
       "    <tr>\n",
       "      <th>...</th>\n",
       "      <td>...</td>\n",
       "      <td>...</td>\n",
       "      <td>...</td>\n",
       "      <td>...</td>\n",
       "      <td>...</td>\n",
       "      <td>...</td>\n",
       "      <td>...</td>\n",
       "      <td>...</td>\n",
       "    </tr>\n",
       "    <tr>\n",
       "      <th>TTTGTTGGTGTCATGT-1</th>\n",
       "      <td>1331</td>\n",
       "      <td>7.194437</td>\n",
       "      <td>3937.0</td>\n",
       "      <td>8.278428</td>\n",
       "      <td>46.405893</td>\n",
       "      <td>55.956312</td>\n",
       "      <td>65.278131</td>\n",
       "      <td>78.892558</td>\n",
       "    </tr>\n",
       "    <tr>\n",
       "      <th>TTTGTTGGTTTGAACC-1</th>\n",
       "      <td>1401</td>\n",
       "      <td>7.245655</td>\n",
       "      <td>4245.0</td>\n",
       "      <td>8.353733</td>\n",
       "      <td>43.910483</td>\n",
       "      <td>58.186101</td>\n",
       "      <td>67.255595</td>\n",
       "      <td>78.775029</td>\n",
       "    </tr>\n",
       "    <tr>\n",
       "      <th>TTTGTTGTCCAAGCCG-1</th>\n",
       "      <td>1668</td>\n",
       "      <td>7.419980</td>\n",
       "      <td>5602.0</td>\n",
       "      <td>8.631058</td>\n",
       "      <td>45.430203</td>\n",
       "      <td>59.371653</td>\n",
       "      <td>67.832917</td>\n",
       "      <td>79.150303</td>\n",
       "    </tr>\n",
       "    <tr>\n",
       "      <th>TTTGTTGTCTTACTGT-1</th>\n",
       "      <td>1745</td>\n",
       "      <td>7.465083</td>\n",
       "      <td>6757.0</td>\n",
       "      <td>8.818482</td>\n",
       "      <td>48.068670</td>\n",
       "      <td>63.830102</td>\n",
       "      <td>71.496226</td>\n",
       "      <td>81.352671</td>\n",
       "    </tr>\n",
       "    <tr>\n",
       "      <th>TTTGTTGTCTTCTAAC-1</th>\n",
       "      <td>698</td>\n",
       "      <td>6.549651</td>\n",
       "      <td>1671.0</td>\n",
       "      <td>7.421776</td>\n",
       "      <td>55.954518</td>\n",
       "      <td>61.938959</td>\n",
       "      <td>70.197487</td>\n",
       "      <td>88.150808</td>\n",
       "    </tr>\n",
       "  </tbody>\n",
       "</table>\n",
       "<p>11769 rows × 8 columns</p>\n",
       "</div>"
      ],
      "text/plain": [
       "                    n_genes_by_counts  log1p_n_genes_by_counts  total_counts  \\\n",
       "AAACCCAAGCGCCCAT-1               1087                 6.992096        2204.0   \n",
       "AAACCCAAGGTTCCGC-1               4200                 8.343078       20090.0   \n",
       "AAACCCACAGAGTTGG-1               1836                 7.515889        5884.0   \n",
       "AAACCCACAGGTATGG-1               2216                 7.703910        5530.0   \n",
       "AAACCCACATAGTCAC-1               1615                 7.387709        5106.0   \n",
       "...                               ...                      ...           ...   \n",
       "TTTGTTGGTGTCATGT-1               1331                 7.194437        3937.0   \n",
       "TTTGTTGGTTTGAACC-1               1401                 7.245655        4245.0   \n",
       "TTTGTTGTCCAAGCCG-1               1668                 7.419980        5602.0   \n",
       "TTTGTTGTCTTACTGT-1               1745                 7.465083        6757.0   \n",
       "TTTGTTGTCTTCTAAC-1                698                 6.549651        1671.0   \n",
       "\n",
       "                    log1p_total_counts  pct_counts_in_top_50_genes  \\\n",
       "AAACCCAAGCGCCCAT-1            7.698483                   34.437387   \n",
       "AAACCCAAGGTTCCGC-1            9.908028                   30.751618   \n",
       "AAACCCACAGAGTTGG-1            8.680162                   42.641061   \n",
       "AAACCCACAGGTATGG-1            8.618124                   32.839060   \n",
       "AAACCCACATAGTCAC-1            8.538367                   41.676459   \n",
       "...                                ...                         ...   \n",
       "TTTGTTGGTGTCATGT-1            8.278428                   46.405893   \n",
       "TTTGTTGGTTTGAACC-1            8.353733                   43.910483   \n",
       "TTTGTTGTCCAAGCCG-1            8.631058                   45.430203   \n",
       "TTTGTTGTCTTACTGT-1            8.818482                   48.068670   \n",
       "TTTGTTGTCTTCTAAC-1            7.421776                   55.954518   \n",
       "\n",
       "                    pct_counts_in_top_100_genes  pct_counts_in_top_200_genes  \\\n",
       "AAACCCAAGCGCCCAT-1                    44.782214                    55.716878   \n",
       "AAACCCAAGGTTCCGC-1                    43.753111                    55.739174   \n",
       "AAACCCACAGAGTTGG-1                    52.923182                    62.542488   \n",
       "AAACCCACAGGTATGG-1                    41.681736                    51.175407   \n",
       "AAACCCACATAGTCAC-1                    56.423815                    65.648257   \n",
       "...                                         ...                          ...   \n",
       "TTTGTTGGTGTCATGT-1                    55.956312                    65.278131   \n",
       "TTTGTTGGTTTGAACC-1                    58.186101                    67.255595   \n",
       "TTTGTTGTCCAAGCCG-1                    59.371653                    67.832917   \n",
       "TTTGTTGTCTTACTGT-1                    63.830102                    71.496226   \n",
       "TTTGTTGTCTTCTAAC-1                    61.938959                    70.197487   \n",
       "\n",
       "                    pct_counts_in_top_500_genes  \n",
       "AAACCCAAGCGCCCAT-1                    73.366606  \n",
       "AAACCCAAGGTTCCGC-1                    67.819811  \n",
       "AAACCCACAGAGTTGG-1                    75.254929  \n",
       "AAACCCACAGGTATGG-1                    65.280289  \n",
       "AAACCCACATAGTCAC-1                    78.162946  \n",
       "...                                         ...  \n",
       "TTTGTTGGTGTCATGT-1                    78.892558  \n",
       "TTTGTTGGTTTGAACC-1                    78.775029  \n",
       "TTTGTTGTCCAAGCCG-1                    79.150303  \n",
       "TTTGTTGTCTTACTGT-1                    81.352671  \n",
       "TTTGTTGTCTTCTAAC-1                    88.150808  \n",
       "\n",
       "[11769 rows x 8 columns]"
      ]
     },
     "execution_count": 60,
     "metadata": {},
     "output_type": "execute_result"
    }
   ],
   "source": [
    "adata.obs"
   ]
  },
  {
   "cell_type": "code",
   "execution_count": 61,
   "id": "869ebc2d-1df6-4699-9e8b-1c1dfe947dec",
   "metadata": {},
   "outputs": [
    {
     "data": {
      "text/html": [
       "<div>\n",
       "<style scoped>\n",
       "    .dataframe tbody tr th:only-of-type {\n",
       "        vertical-align: middle;\n",
       "    }\n",
       "\n",
       "    .dataframe tbody tr th {\n",
       "        vertical-align: top;\n",
       "    }\n",
       "\n",
       "    .dataframe thead th {\n",
       "        text-align: right;\n",
       "    }\n",
       "</style>\n",
       "<table border=\"1\" class=\"dataframe\">\n",
       "  <thead>\n",
       "    <tr style=\"text-align: right;\">\n",
       "      <th></th>\n",
       "      <th>gene_ids</th>\n",
       "      <th>feature_types</th>\n",
       "      <th>genome</th>\n",
       "      <th>n_cells_by_counts</th>\n",
       "      <th>mean_counts</th>\n",
       "      <th>log1p_mean_counts</th>\n",
       "      <th>pct_dropout_by_counts</th>\n",
       "      <th>total_counts</th>\n",
       "      <th>log1p_total_counts</th>\n",
       "    </tr>\n",
       "  </thead>\n",
       "  <tbody>\n",
       "    <tr>\n",
       "      <th>MIR1302-2HG</th>\n",
       "      <td>ENSG00000243485</td>\n",
       "      <td>Gene Expression</td>\n",
       "      <td>GRCh38</td>\n",
       "      <td>0</td>\n",
       "      <td>0.000000</td>\n",
       "      <td>0.000000</td>\n",
       "      <td>100.000000</td>\n",
       "      <td>0.0</td>\n",
       "      <td>0.000000</td>\n",
       "    </tr>\n",
       "    <tr>\n",
       "      <th>FAM138A</th>\n",
       "      <td>ENSG00000237613</td>\n",
       "      <td>Gene Expression</td>\n",
       "      <td>GRCh38</td>\n",
       "      <td>0</td>\n",
       "      <td>0.000000</td>\n",
       "      <td>0.000000</td>\n",
       "      <td>100.000000</td>\n",
       "      <td>0.0</td>\n",
       "      <td>0.000000</td>\n",
       "    </tr>\n",
       "    <tr>\n",
       "      <th>OR4F5</th>\n",
       "      <td>ENSG00000186092</td>\n",
       "      <td>Gene Expression</td>\n",
       "      <td>GRCh38</td>\n",
       "      <td>0</td>\n",
       "      <td>0.000000</td>\n",
       "      <td>0.000000</td>\n",
       "      <td>100.000000</td>\n",
       "      <td>0.0</td>\n",
       "      <td>0.000000</td>\n",
       "    </tr>\n",
       "    <tr>\n",
       "      <th>AL627309.1</th>\n",
       "      <td>ENSG00000238009</td>\n",
       "      <td>Gene Expression</td>\n",
       "      <td>GRCh38</td>\n",
       "      <td>60</td>\n",
       "      <td>0.005183</td>\n",
       "      <td>0.005170</td>\n",
       "      <td>99.490186</td>\n",
       "      <td>61.0</td>\n",
       "      <td>4.127134</td>\n",
       "    </tr>\n",
       "    <tr>\n",
       "      <th>AL627309.3</th>\n",
       "      <td>ENSG00000239945</td>\n",
       "      <td>Gene Expression</td>\n",
       "      <td>GRCh38</td>\n",
       "      <td>4</td>\n",
       "      <td>0.000340</td>\n",
       "      <td>0.000340</td>\n",
       "      <td>99.966012</td>\n",
       "      <td>4.0</td>\n",
       "      <td>1.609438</td>\n",
       "    </tr>\n",
       "    <tr>\n",
       "      <th>...</th>\n",
       "      <td>...</td>\n",
       "      <td>...</td>\n",
       "      <td>...</td>\n",
       "      <td>...</td>\n",
       "      <td>...</td>\n",
       "      <td>...</td>\n",
       "      <td>...</td>\n",
       "      <td>...</td>\n",
       "      <td>...</td>\n",
       "    </tr>\n",
       "    <tr>\n",
       "      <th>AC233755.2</th>\n",
       "      <td>ENSG00000277856</td>\n",
       "      <td>Gene Expression</td>\n",
       "      <td>GRCh38</td>\n",
       "      <td>2</td>\n",
       "      <td>0.000170</td>\n",
       "      <td>0.000170</td>\n",
       "      <td>99.983006</td>\n",
       "      <td>2.0</td>\n",
       "      <td>1.098612</td>\n",
       "    </tr>\n",
       "    <tr>\n",
       "      <th>AC233755.1</th>\n",
       "      <td>ENSG00000275063</td>\n",
       "      <td>Gene Expression</td>\n",
       "      <td>GRCh38</td>\n",
       "      <td>2</td>\n",
       "      <td>0.000255</td>\n",
       "      <td>0.000255</td>\n",
       "      <td>99.983006</td>\n",
       "      <td>3.0</td>\n",
       "      <td>1.386294</td>\n",
       "    </tr>\n",
       "    <tr>\n",
       "      <th>AC240274.1</th>\n",
       "      <td>ENSG00000271254</td>\n",
       "      <td>Gene Expression</td>\n",
       "      <td>GRCh38</td>\n",
       "      <td>101</td>\n",
       "      <td>0.008752</td>\n",
       "      <td>0.008714</td>\n",
       "      <td>99.141813</td>\n",
       "      <td>103.0</td>\n",
       "      <td>4.644391</td>\n",
       "    </tr>\n",
       "    <tr>\n",
       "      <th>AC213203.1</th>\n",
       "      <td>ENSG00000277475</td>\n",
       "      <td>Gene Expression</td>\n",
       "      <td>GRCh38</td>\n",
       "      <td>0</td>\n",
       "      <td>0.000000</td>\n",
       "      <td>0.000000</td>\n",
       "      <td>100.000000</td>\n",
       "      <td>0.0</td>\n",
       "      <td>0.000000</td>\n",
       "    </tr>\n",
       "    <tr>\n",
       "      <th>FAM231C</th>\n",
       "      <td>ENSG00000268674</td>\n",
       "      <td>Gene Expression</td>\n",
       "      <td>GRCh38</td>\n",
       "      <td>0</td>\n",
       "      <td>0.000000</td>\n",
       "      <td>0.000000</td>\n",
       "      <td>100.000000</td>\n",
       "      <td>0.0</td>\n",
       "      <td>0.000000</td>\n",
       "    </tr>\n",
       "  </tbody>\n",
       "</table>\n",
       "<p>33538 rows × 9 columns</p>\n",
       "</div>"
      ],
      "text/plain": [
       "                    gene_ids    feature_types  genome  n_cells_by_counts  \\\n",
       "MIR1302-2HG  ENSG00000243485  Gene Expression  GRCh38                  0   \n",
       "FAM138A      ENSG00000237613  Gene Expression  GRCh38                  0   \n",
       "OR4F5        ENSG00000186092  Gene Expression  GRCh38                  0   \n",
       "AL627309.1   ENSG00000238009  Gene Expression  GRCh38                 60   \n",
       "AL627309.3   ENSG00000239945  Gene Expression  GRCh38                  4   \n",
       "...                      ...              ...     ...                ...   \n",
       "AC233755.2   ENSG00000277856  Gene Expression  GRCh38                  2   \n",
       "AC233755.1   ENSG00000275063  Gene Expression  GRCh38                  2   \n",
       "AC240274.1   ENSG00000271254  Gene Expression  GRCh38                101   \n",
       "AC213203.1   ENSG00000277475  Gene Expression  GRCh38                  0   \n",
       "FAM231C      ENSG00000268674  Gene Expression  GRCh38                  0   \n",
       "\n",
       "             mean_counts  log1p_mean_counts  pct_dropout_by_counts  \\\n",
       "MIR1302-2HG     0.000000           0.000000             100.000000   \n",
       "FAM138A         0.000000           0.000000             100.000000   \n",
       "OR4F5           0.000000           0.000000             100.000000   \n",
       "AL627309.1      0.005183           0.005170              99.490186   \n",
       "AL627309.3      0.000340           0.000340              99.966012   \n",
       "...                  ...                ...                    ...   \n",
       "AC233755.2      0.000170           0.000170              99.983006   \n",
       "AC233755.1      0.000255           0.000255              99.983006   \n",
       "AC240274.1      0.008752           0.008714              99.141813   \n",
       "AC213203.1      0.000000           0.000000             100.000000   \n",
       "FAM231C         0.000000           0.000000             100.000000   \n",
       "\n",
       "             total_counts  log1p_total_counts  \n",
       "MIR1302-2HG           0.0            0.000000  \n",
       "FAM138A               0.0            0.000000  \n",
       "OR4F5                 0.0            0.000000  \n",
       "AL627309.1           61.0            4.127134  \n",
       "AL627309.3            4.0            1.609438  \n",
       "...                   ...                 ...  \n",
       "AC233755.2            2.0            1.098612  \n",
       "AC233755.1            3.0            1.386294  \n",
       "AC240274.1          103.0            4.644391  \n",
       "AC213203.1            0.0            0.000000  \n",
       "FAM231C               0.0            0.000000  \n",
       "\n",
       "[33538 rows x 9 columns]"
      ]
     },
     "execution_count": 61,
     "metadata": {},
     "output_type": "execute_result"
    }
   ],
   "source": [
    "adata.var"
   ]
  },
  {
   "cell_type": "code",
   "execution_count": 62,
   "id": "7ec3bb2e-1c9d-479d-bdc9-73c0fd3997c4",
   "metadata": {},
   "outputs": [
    {
     "data": {
      "text/plain": [
       "AnnData object with n_obs × n_vars = 11769 × 33538\n",
       "    obs: 'n_genes_by_counts', 'log1p_n_genes_by_counts', 'total_counts', 'log1p_total_counts', 'pct_counts_in_top_50_genes', 'pct_counts_in_top_100_genes', 'pct_counts_in_top_200_genes', 'pct_counts_in_top_500_genes'\n",
       "    var: 'gene_ids', 'feature_types', 'genome', 'n_cells_by_counts', 'mean_counts', 'log1p_mean_counts', 'pct_dropout_by_counts', 'total_counts', 'log1p_total_counts'"
      ]
     },
     "execution_count": 62,
     "metadata": {},
     "output_type": "execute_result"
    }
   ],
   "source": [
    "adata"
   ]
  },
  {
   "cell_type": "code",
   "execution_count": 63,
   "id": "9b668874-81b1-43c2-b62e-312d412b09dc",
   "metadata": {},
   "outputs": [],
   "source": [
    "sc.pp.normalize_total(adata)"
   ]
  },
  {
   "cell_type": "code",
   "execution_count": 64,
   "id": "b1cc1819-bebe-4974-a793-f1586576f70f",
   "metadata": {},
   "outputs": [
    {
     "data": {
      "text/plain": [
       "AnnData object with n_obs × n_vars = 11769 × 33538\n",
       "    obs: 'n_genes_by_counts', 'log1p_n_genes_by_counts', 'total_counts', 'log1p_total_counts', 'pct_counts_in_top_50_genes', 'pct_counts_in_top_100_genes', 'pct_counts_in_top_200_genes', 'pct_counts_in_top_500_genes'\n",
       "    var: 'gene_ids', 'feature_types', 'genome', 'n_cells_by_counts', 'mean_counts', 'log1p_mean_counts', 'pct_dropout_by_counts', 'total_counts', 'log1p_total_counts'"
      ]
     },
     "execution_count": 64,
     "metadata": {},
     "output_type": "execute_result"
    }
   ],
   "source": [
    "adata"
   ]
  },
  {
   "cell_type": "code",
   "execution_count": 65,
   "id": "ad2f2e6d-1f5d-4ba2-a0e5-3da20cc9f9b2",
   "metadata": {},
   "outputs": [
    {
     "data": {
      "text/plain": [
       "array([ 2.9587114, 11.834846 ,  5.917423 , ...,  3.9024537,  3.9024537,\n",
       "        3.9024537], dtype=float32)"
      ]
     },
     "execution_count": 65,
     "metadata": {},
     "output_type": "execute_result"
    }
   ],
   "source": [
    "adata.X.data"
   ]
  },
  {
   "cell_type": "code",
   "execution_count": 66,
   "id": "ad649157-81e5-47d2-8214-c7c1390feeb4",
   "metadata": {},
   "outputs": [],
   "source": [
    "sc.pp.pca(adata, n_comps = 50)"
   ]
  },
  {
   "cell_type": "code",
   "execution_count": 67,
   "id": "62ddda80-cc1f-4fc9-a4d8-1d4bd24491be",
   "metadata": {},
   "outputs": [
    {
     "data": {
      "text/plain": [
       "AnnData object with n_obs × n_vars = 11769 × 33538\n",
       "    obs: 'n_genes_by_counts', 'log1p_n_genes_by_counts', 'total_counts', 'log1p_total_counts', 'pct_counts_in_top_50_genes', 'pct_counts_in_top_100_genes', 'pct_counts_in_top_200_genes', 'pct_counts_in_top_500_genes'\n",
       "    var: 'gene_ids', 'feature_types', 'genome', 'n_cells_by_counts', 'mean_counts', 'log1p_mean_counts', 'pct_dropout_by_counts', 'total_counts', 'log1p_total_counts'\n",
       "    uns: 'pca'\n",
       "    obsm: 'X_pca'\n",
       "    varm: 'PCs'"
      ]
     },
     "execution_count": 67,
     "metadata": {},
     "output_type": "execute_result"
    }
   ],
   "source": [
    "adata"
   ]
  },
  {
   "cell_type": "code",
   "execution_count": 68,
   "id": "dbd8e253-4708-4558-8ff4-a01ae2b6ee27",
   "metadata": {},
   "outputs": [
    {
     "data": {
      "text/plain": [
       "{'params': {'zero_center': True,\n",
       "  'use_highly_variable': False,\n",
       "  'mask_var': None},\n",
       " 'variance': array([9.2077758e+04, 3.8398645e+04, 1.5128589e+04, 7.1238979e+03,\n",
       "        6.5620029e+03, 4.0548127e+03, 3.4556199e+03, 2.2674512e+03,\n",
       "        1.7606123e+03, 1.3724764e+03, 9.8730164e+02, 8.5573792e+02,\n",
       "        8.2189423e+02, 5.9744446e+02, 4.8068207e+02, 4.6329776e+02,\n",
       "        3.7572604e+02, 3.5468460e+02, 3.4298883e+02, 3.3113547e+02,\n",
       "        2.9915866e+02, 2.5318448e+02, 2.4073579e+02, 2.3217731e+02,\n",
       "        1.9039682e+02, 1.7193799e+02, 1.6854317e+02, 1.5648985e+02,\n",
       "        1.5593314e+02, 1.4361130e+02, 1.4090697e+02, 1.3636380e+02,\n",
       "        1.2879050e+02, 1.2469593e+02, 1.1812107e+02, 1.0248475e+02,\n",
       "        9.9281784e+01, 9.6250320e+01, 9.2002907e+01, 8.6321564e+01,\n",
       "        7.7595932e+01, 7.6251175e+01, 7.2894218e+01, 6.7854935e+01,\n",
       "        6.3795681e+01, 6.2841312e+01, 5.9735313e+01, 5.7088566e+01,\n",
       "        5.6460163e+01, 5.6144310e+01], dtype=float32),\n",
       " 'variance_ratio': array([4.89128768e-01, 2.03978494e-01, 8.03649873e-02, 3.78430523e-02,\n",
       "        3.48581932e-02, 2.15396807e-02, 1.83566920e-02, 1.20449895e-02,\n",
       "        9.35259648e-03, 7.29076937e-03, 5.24467183e-03, 4.54578875e-03,\n",
       "        4.36600670e-03, 3.17370100e-03, 2.55344436e-03, 2.46109674e-03,\n",
       "        1.99590460e-03, 1.88412971e-03, 1.82200037e-03, 1.75903377e-03,\n",
       "        1.58916891e-03, 1.34494819e-03, 1.27881917e-03, 1.23335538e-03,\n",
       "        1.01141213e-03, 9.13356489e-04, 8.95322766e-04, 8.31294048e-04,\n",
       "        8.28336691e-04, 7.62881478e-04, 7.48515769e-04, 7.24381884e-04,\n",
       "        6.84151542e-04, 6.62400678e-04, 6.27474161e-04, 5.44412062e-04,\n",
       "        5.27397497e-04, 5.11293940e-04, 4.88731137e-04, 4.58551134e-04,\n",
       "        4.12199472e-04, 4.05055936e-04, 3.87223379e-04, 3.60454054e-04,\n",
       "        3.38890794e-04, 3.33821052e-04, 3.17321596e-04, 3.03261739e-04,\n",
       "        2.99923588e-04, 2.98245723e-04], dtype=float32)}"
      ]
     },
     "execution_count": 68,
     "metadata": {},
     "output_type": "execute_result"
    }
   ],
   "source": [
    "adata.uns['pca']"
   ]
  },
  {
   "cell_type": "code",
   "execution_count": 69,
   "id": "8473822d-3e27-497e-80be-db2d07656218",
   "metadata": {},
   "outputs": [
    {
     "data": {
      "text/plain": [
       "array([[-2.16924072e+02,  2.73957092e+02,  1.63952271e+02, ...,\n",
       "        -1.61526699e+01,  3.16322970e+00,  4.71528143e-01],\n",
       "       [-1.10486679e+02, -1.90206085e+02, -7.45063019e+01, ...,\n",
       "         5.23604929e-01, -4.89958301e-02, -3.59555244e+00],\n",
       "       [-2.04630070e+01, -2.58142975e+02,  1.69610962e+02, ...,\n",
       "        -1.46209164e+01, -1.79227295e+01,  7.66218424e+00],\n",
       "       ...,\n",
       "       [-7.19943695e+01,  1.98386734e+02, -2.53583488e+01, ...,\n",
       "        -9.35611916e+00, -5.10489988e+00,  6.66689694e-01],\n",
       "       [-1.15791550e+02,  1.07714134e+02, -1.20059410e+02, ...,\n",
       "         7.75037670e+00, -2.41459385e-01, -5.16630983e+00],\n",
       "       [ 3.59034058e+02,  8.47824829e+02,  5.48739502e+02, ...,\n",
       "         1.17725019e+01,  2.26474357e+00,  2.48942709e+00]], dtype=float32)"
      ]
     },
     "execution_count": 69,
     "metadata": {},
     "output_type": "execute_result"
    }
   ],
   "source": [
    "adata.obsm['X_pca']"
   ]
  },
  {
   "cell_type": "code",
   "execution_count": 70,
   "id": "08dd1263-9cb8-485c-8683-f4c56c9e35ee",
   "metadata": {},
   "outputs": [
    {
     "data": {
      "text/plain": [
       "(11769, 50)"
      ]
     },
     "execution_count": 70,
     "metadata": {},
     "output_type": "execute_result"
    }
   ],
   "source": [
    "adata.obsm['X_pca'].shape"
   ]
  },
  {
   "cell_type": "code",
   "execution_count": 71,
   "id": "7fff299b-5705-40ee-bbb3-b037121f5377",
   "metadata": {},
   "outputs": [
    {
     "data": {
      "text/plain": [
       "AnnData object with n_obs × n_vars = 11769 × 33538\n",
       "    obs: 'n_genes_by_counts', 'log1p_n_genes_by_counts', 'total_counts', 'log1p_total_counts', 'pct_counts_in_top_50_genes', 'pct_counts_in_top_100_genes', 'pct_counts_in_top_200_genes', 'pct_counts_in_top_500_genes'\n",
       "    var: 'gene_ids', 'feature_types', 'genome', 'n_cells_by_counts', 'mean_counts', 'log1p_mean_counts', 'pct_dropout_by_counts', 'total_counts', 'log1p_total_counts'\n",
       "    uns: 'pca'\n",
       "    obsm: 'X_pca'\n",
       "    varm: 'PCs'"
      ]
     },
     "execution_count": 71,
     "metadata": {},
     "output_type": "execute_result"
    }
   ],
   "source": [
    "adata"
   ]
  },
  {
   "cell_type": "code",
   "execution_count": 73,
   "id": "610e1738-6561-4d50-9d95-c17b078bf49c",
   "metadata": {},
   "outputs": [],
   "source": [
    "adata.write_h5ad('/Users/sharmar1/Dropbox/msk_workshop/GSCN_2025/example_file.h5ad')"
   ]
  },
  {
   "cell_type": "code",
   "execution_count": null,
   "id": "441f04a5-c28a-4417-94f5-51b3d1482722",
   "metadata": {},
   "outputs": [],
   "source": []
  },
  {
   "cell_type": "code",
   "execution_count": null,
   "id": "82a8ba59-b851-4dd7-bfea-0f8e199e3b9f",
   "metadata": {},
   "outputs": [],
   "source": []
  },
  {
   "cell_type": "code",
   "execution_count": 48,
   "id": "6ab49dc9-131f-403c-aa3b-49c5705de303",
   "metadata": {},
   "outputs": [
    {
     "name": "stdout",
     "output_type": "stream",
     "text": [
      "Requirement already satisfied: pandas in /Users/sharmar1/opt/anaconda3/envs/workshop_2025/lib/python3.10/site-packages (2.2.3)\n",
      "Requirement already satisfied: numpy>=1.22.4 in /Users/sharmar1/opt/anaconda3/envs/workshop_2025/lib/python3.10/site-packages (from pandas) (2.1.3)\n",
      "Requirement already satisfied: python-dateutil>=2.8.2 in /Users/sharmar1/opt/anaconda3/envs/workshop_2025/lib/python3.10/site-packages (from pandas) (2.9.0.post0)\n",
      "Requirement already satisfied: pytz>=2020.1 in /Users/sharmar1/opt/anaconda3/envs/workshop_2025/lib/python3.10/site-packages (from pandas) (2025.2)\n",
      "Requirement already satisfied: tzdata>=2022.7 in /Users/sharmar1/opt/anaconda3/envs/workshop_2025/lib/python3.10/site-packages (from pandas) (2025.2)\n",
      "Requirement already satisfied: six>=1.5 in /Users/sharmar1/opt/anaconda3/envs/workshop_2025/lib/python3.10/site-packages (from python-dateutil>=2.8.2->pandas) (1.17.0)\n"
     ]
    }
   ],
   "source": [
    "!pip install pandas"
   ]
  },
  {
   "cell_type": "code",
   "execution_count": 49,
   "id": "778d6225-0863-44b6-ac78-1d5168c50341",
   "metadata": {},
   "outputs": [
    {
     "name": "stdout",
     "output_type": "stream",
     "text": [
      "Requirement already satisfied: scikit-misc in /Users/sharmar1/opt/anaconda3/envs/workshop_2025/lib/python3.10/site-packages (0.5.1)\n",
      "Requirement already satisfied: numpy>=1.23.5 in /Users/sharmar1/opt/anaconda3/envs/workshop_2025/lib/python3.10/site-packages (from scikit-misc) (2.1.3)\n"
     ]
    }
   ],
   "source": [
    "!pip install scikit-misc"
   ]
  },
  {
   "cell_type": "code",
   "execution_count": 50,
   "id": "501bcb91-be89-4145-8ddf-74dbef0c5074",
   "metadata": {},
   "outputs": [
    {
     "name": "stdout",
     "output_type": "stream",
     "text": [
      "Collecting colour\n",
      "  Downloading colour-0.1.5-py2.py3-none-any.whl.metadata (18 kB)\n",
      "Downloading colour-0.1.5-py2.py3-none-any.whl (23 kB)\n",
      "Installing collected packages: colour\n",
      "Successfully installed colour-0.1.5\n"
     ]
    }
   ],
   "source": [
    "!pip install colour"
   ]
  },
  {
   "cell_type": "code",
   "execution_count": 51,
   "id": "64186419-dde8-46fb-a1f0-961fba688a6a",
   "metadata": {},
   "outputs": [],
   "source": [
    "import colour"
   ]
  },
  {
   "cell_type": "code",
   "execution_count": 52,
   "id": "ec2104f0-037f-4f19-9b62-f9e861b1d511",
   "metadata": {},
   "outputs": [],
   "source": [
    "import colored"
   ]
  },
  {
   "cell_type": "code",
   "execution_count": null,
   "id": "84319518-0b8f-49de-8bf6-43e21e3091ff",
   "metadata": {},
   "outputs": [],
   "source": []
  }
 ],
 "metadata": {
  "kernelspec": {
   "display_name": "workshop_2025",
   "language": "python",
   "name": "workshop_2025"
  },
  "language_info": {
   "codemirror_mode": {
    "name": "ipython",
    "version": 3
   },
   "file_extension": ".py",
   "mimetype": "text/x-python",
   "name": "python",
   "nbconvert_exporter": "python",
   "pygments_lexer": "ipython3",
   "version": "3.10.16"
  }
 },
 "nbformat": 4,
 "nbformat_minor": 5
}
